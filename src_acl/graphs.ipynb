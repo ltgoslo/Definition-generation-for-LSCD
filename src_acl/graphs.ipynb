{
 "cells": [
  {
   "cell_type": "code",
   "execution_count": 11,
   "id": "9b5aa527-ab40-4ca5-a82c-977567b3c270",
   "metadata": {},
   "outputs": [],
   "source": [
    "import pandas as pd\n",
    "import seaborn as sns\n",
    "import os\n",
    "from glob import glob\n",
    "import matplotlib.pyplot as plt"
   ]
  },
  {
   "cell_type": "code",
   "execution_count": 53,
   "id": "7ccd8903-02e0-4c57-bb13-782676281f51",
   "metadata": {},
   "outputs": [
    {
     "name": "stdout",
     "output_type": "stream",
     "text": [
      "(57629, 3)\n",
      "37\n",
      "37\n",
      "../../acl_results/generated_definitions/merged/english/minimal/greedy50/english-corpus2.tsv.gz\n",
      "../../acl_results/generated_definitions/merged/english/minimal/greedy50/english-corpus1.tsv.gz\n",
      "74\n",
      "74\n",
      "../../acl_results/generated_definitions/merged/english/maximal/greedy50/english-corpus2.tsv.gz\n",
      "../../acl_results/generated_definitions/merged/english/maximal/greedy50/english-corpus1.tsv.gz\n",
      "111\n",
      "111\n",
      "   Average number of senses per 100 words     Merging\n",
      "0                               88.996764  no_merging\n",
      "1                               63.448276  no_merging\n",
      "2                               30.606860  no_merging\n",
      "3                               64.499170  no_merging\n",
      "4                               64.279297  no_merging\n",
      "saving to ../../acl_results/generated_definitions/merged/graphs/english.png\n"
     ]
    },
    {
     "data": {
      "image/png": "[encoded data removed]",
      "text/plain": [
       "<Figure size 640x480 with 1 Axes>"
      ]
     },
     "metadata": {},
     "output_type": "display_data"
    }
   ],
   "source": [
    "merged_path = \"../../acl_results/generated_definitions/merged\"\n",
    "language = \"english\"\n",
    "english = os.path.join(merged_path, language)\n",
    "original = f\"../../acl_results/generated_definitions/{language}/greedy/*.tsv.gz\"\n",
    "corpus_df_original = pd.DataFrame()\n",
    "for i, corpus in enumerate(glob(original)):\n",
    "    corpus_df = pd.read_csv(corpus, sep=\"\\t\", compression=\"gzip\", header=None)\n",
    "    corpus_df_original = pd.concat((corpus_df_original, corpus_df))\n",
    "print(corpus_df_original.shape)\n",
    "number_of_senses_per_word = []\n",
    "strategies = [\"no_merging\" for _ in range(len(corpus_df_original[0].unique()))]\n",
    "for word in corpus_df_original[0].unique():\n",
    "    this_word = corpus_df_original[corpus_df_original[0]==word]\n",
    "    number_of_senses_per_word.append(len(this_word[2].unique())/(this_word.shape[0]/100))\n",
    "print(len(number_of_senses_per_word))\n",
    "print(len(strategies))\n",
    "for strategy in (\"minimal\", \"maximal\"):\n",
    "    strategy_path = os.path.join(english, strategy)\n",
    "    gen_strategy_path = os.path.join(strategy_path, \"greedy50\")\n",
    "    corpus_df_original = pd.DataFrame()\n",
    "    for corpus in glob(gen_strategy_path + \"/*.tsv.gz\"):\n",
    "        print(corpus)\n",
    "        corpus_df = pd.read_csv(corpus, sep=\"\\t\", compression=\"gzip\", header=None)\n",
    "        corpus_df_original = pd.concat((corpus_df_original, corpus_df))\n",
    "    strategies.extend([strategy for _ in range(len(corpus_df_original[0].unique()))])\n",
    "        #print(corpus_df.head())\n",
    "    for word in corpus_df_original[0].unique():\n",
    "        this_word = corpus_df_original[corpus_df_original[0]==word]\n",
    "        number_of_senses_per_word.append(len(this_word[2].unique())/(this_word.shape[0]/100))\n",
    "    print(len(number_of_senses_per_word))\n",
    "    print(len(strategies))\n",
    "data = pd.DataFrame({f'Average number of senses per 100 words':number_of_senses_per_word, \"Merging\": strategies},\n",
    "                   )\n",
    "print(data.head())\n",
    "g = sns.barplot(\n",
    "    data=data,\n",
    "    hue=\"Merging\",\n",
    "    x='Average number of senses per 100 words',\n",
    "                )\n",
    "        #plt.show()\n",
    "out = merged_path + \"/graphs/\" + f\"{language}.png\"\n",
    "print(f\"saving to {out}\")\n",
    "plt.savefig(out)"
   ]
  },
  {
   "cell_type": "code",
   "execution_count": 39,
   "id": "2aa3c000-f991-42e5-8d53-7504f5aad91e",
   "metadata": {},
   "outputs": [],
   "source": [
    "tips = sns.load_dataset(\"penguins\")"
   ]
  },
  {
   "cell_type": "code",
   "execution_count": 40,
   "id": "b2a66af7-a250-4550-ba69-591ba03f6ba4",
   "metadata": {},
   "outputs": [
    {
     "data": {
      "text/html": [
       "<div>\n",
       "<style scoped>\n",
       "    .dataframe tbody tr th:only-of-type {\n",
       "        vertical-align: middle;\n",
       "    }\n",
       "\n",
       "    .dataframe tbody tr th {\n",
       "        vertical-align: top;\n",
       "    }\n",
       "\n",
       "    .dataframe thead th {\n",
       "        text-align: right;\n",
       "    }\n",
       "</style>\n",
       "<table border=\"1\" class=\"dataframe\">\n",
       "  <thead>\n",
       "    <tr style=\"text-align: right;\">\n",
       "      <th></th>\n",
       "      <th>species</th>\n",
       "      <th>island</th>\n",
       "      <th>bill_length_mm</th>\n",
       "      <th>bill_depth_mm</th>\n",
       "      <th>flipper_length_mm</th>\n",
       "      <th>body_mass_g</th>\n",
       "      <th>sex</th>\n",
       "    </tr>\n",
       "  </thead>\n",
       "  <tbody>\n",
       "    <tr>\n",
       "      <th>0</th>\n",
       "      <td>Adelie</td>\n",
       "      <td>Torgersen</td>\n",
       "      <td>39.1</td>\n",
       "      <td>18.7</td>\n",
       "      <td>181.0</td>\n",
       "      <td>3750.0</td>\n",
       "      <td>Male</td>\n",
       "    </tr>\n",
       "    <tr>\n",
       "      <th>1</th>\n",
       "      <td>Adelie</td>\n",
       "      <td>Torgersen</td>\n",
       "      <td>39.5</td>\n",
       "      <td>17.4</td>\n",
       "      <td>186.0</td>\n",
       "      <td>3800.0</td>\n",
       "      <td>Female</td>\n",
       "    </tr>\n",
       "    <tr>\n",
       "      <th>2</th>\n",
       "      <td>Adelie</td>\n",
       "      <td>Torgersen</td>\n",
       "      <td>40.3</td>\n",
       "      <td>18.0</td>\n",
       "      <td>195.0</td>\n",
       "      <td>3250.0</td>\n",
       "      <td>Female</td>\n",
       "    </tr>\n",
       "    <tr>\n",
       "      <th>3</th>\n",
       "      <td>Adelie</td>\n",
       "      <td>Torgersen</td>\n",
       "      <td>NaN</td>\n",
       "      <td>NaN</td>\n",
       "      <td>NaN</td>\n",
       "      <td>NaN</td>\n",
       "      <td>NaN</td>\n",
       "    </tr>\n",
       "    <tr>\n",
       "      <th>4</th>\n",
       "      <td>Adelie</td>\n",
       "      <td>Torgersen</td>\n",
       "      <td>36.7</td>\n",
       "      <td>19.3</td>\n",
       "      <td>193.0</td>\n",
       "      <td>3450.0</td>\n",
       "      <td>Female</td>\n",
       "    </tr>\n",
       "  </tbody>\n",
       "</table>\n",
       "</div>"
      ],
      "text/plain": [
       "  species     island  bill_length_mm  bill_depth_mm  flipper_length_mm  \\\n",
       "0  Adelie  Torgersen            39.1           18.7              181.0   \n",
       "1  Adelie  Torgersen            39.5           17.4              186.0   \n",
       "2  Adelie  Torgersen            40.3           18.0              195.0   \n",
       "3  Adelie  Torgersen             NaN            NaN                NaN   \n",
       "4  Adelie  Torgersen            36.7           19.3              193.0   \n",
       "\n",
       "   body_mass_g     sex  \n",
       "0       3750.0    Male  \n",
       "1       3800.0  Female  \n",
       "2       3250.0  Female  \n",
       "3          NaN     NaN  \n",
       "4       3450.0  Female  "
      ]
     },
     "execution_count": 40,
     "metadata": {},
     "output_type": "execute_result"
    }
   ],
   "source": [
    "tips.head()"
   ]
  },
  {
   "cell_type": "code",
   "execution_count": null,
   "id": "1eb95c37-c8a3-438a-8fdf-4bb0fc2eef79",
   "metadata": {},
   "outputs": [],
   "source": []
  }
 ],
 "metadata": {
  "kernelspec": {
   "display_name": "glossannotator",
   "language": "python",
   "name": "glossannotator"
  },
  "language_info": {
   "codemirror_mode": {
    "name": "ipython",
    "version": 3
   },
   "file_extension": ".py",
   "mimetype": "text/x-python",
   "name": "python",
   "nbconvert_exporter": "python",
   "pygments_lexer": "ipython3",
   "version": "3.10.12"
  }
 },
 "nbformat": 4,
 "nbformat_minor": 5
}
