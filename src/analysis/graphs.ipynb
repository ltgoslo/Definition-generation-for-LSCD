{
 "cells": [
  {
   "cell_type": "code",
   "execution_count": 1,
   "metadata": {},
   "outputs": [],
   "source": [
    "import pandas as pd\n",
    "import seaborn as sns\n",
    "import os\n",
    "from glob import glob\n",
    "import matplotlib.pyplot as plt"
   ]
  },
  {
   "cell_type": "code",
   "execution_count": 7,
   "metadata": {},
   "outputs": [],
   "source": [
    "MINIMALIST = \"minimalist\"\n",
    "FULL = \"full_fledged\""
   ]
  },
  {
   "cell_type": "markdown",
   "metadata": {},
   "source": [
    "this notebook assumes that you already have merged definitions"
   ]
  },
  {
   "cell_type": "code",
   "execution_count": 15,
   "metadata": {},
   "outputs": [],
   "source": [
    "def no_merging(original, strategies, datasets, number_of_senses_per_word, language):\n",
    "    corpus_df_original = pd.DataFrame()\n",
    "    for i, corpus in enumerate(glob(original)):\n",
    "        corpus_df = pd.read_csv(corpus, sep=\"\\t\", compression=\"gzip\", header=None)\n",
    "        corpus_df_original = pd.concat((corpus_df_original, corpus_df))\n",
    "    strategies.extend([\"no_merging\" for _ in range(len(corpus_df_original[0].unique()))])\n",
    "    datasets.extend([language[0].upper()+language[1:] for _  in range(len(corpus_df_original[0].unique()))])\n",
    "    for word in corpus_df_original[0].unique():\n",
    "        this_word = corpus_df_original[corpus_df_original[0]==word]\n",
    "        number_of_senses_per_word.append(len(this_word[2].unique())/(this_word.shape[0]/100))\n",
    "    print(len(number_of_senses_per_word))\n",
    "    print(len(strategies))\n",
    "    return strategies, datasets, number_of_senses_per_word"
   ]
  },
  {
   "cell_type": "code",
   "execution_count": 17,
   "metadata": {},
   "outputs": [],
   "source": [
    "def run_language(language, merged_path, strategies, datasets, number_of_senses_per_word):\n",
    "    print(language)\n",
    "    english = os.path.join(merged_path, language)\n",
    "    original = f\"../../generated_definitions/{language}/greedy/*.tsv.gz\"\n",
    "    strategies, datasets, number_of_senses_per_word = no_merging(\n",
    "        original, strategies, datasets, number_of_senses_per_word, language,\n",
    "    )\n",
    "    for strategy in (MINIMALIST, FULL):\n",
    "        strategy_path = os.path.join(english, strategy)\n",
    "        if language == \"english\":\n",
    "            gen_strategy_path = os.path.join(strategy_path, \"greedy50\")\n",
    "        else:\n",
    "            gen_strategy_path = os.path.join(strategy_path, \"greedy10\")\n",
    "        corpus_df_original = pd.DataFrame()\n",
    "        for corpus in glob(gen_strategy_path + \"/*.tsv.gz\"):\n",
    "            corpus_df = pd.read_csv(corpus, sep=\"\\t\", compression=\"gzip\", header=None)\n",
    "            corpus_df_original = pd.concat((corpus_df_original, corpus_df))\n",
    "        strategies.extend([strategy for _ in range(len(corpus_df_original[0].unique()))])\n",
    "        datasets.extend([language[0].upper()+language[1:] for _  in range(len(corpus_df_original[0].unique()))])\n",
    "        for word in corpus_df_original[0].unique():\n",
    "            this_word = corpus_df_original[corpus_df_original[0]==word]\n",
    "            number_of_senses_per_word.append(len(this_word[2].unique())/(this_word.shape[0]/100))\n",
    "    return strategies, datasets, number_of_senses_per_word"
   ]
  },
  {
   "cell_type": "code",
   "execution_count": 18,
   "metadata": {},
   "outputs": [
    {
     "name": "stdout",
     "output_type": "stream",
     "text": [
      "english\n",
      "37\n",
      "37\n",
      "222\n",
      "222\n",
      "333\n",
      "333\n",
      "444\n",
      "444\n",
      "norwegian1\n",
      "484\n",
      "484\n",
      "norwegian2\n",
      "604\n",
      "604\n",
      "684\n",
      "   Average number of senses per 100 usage examples     Merging  Dataset\n",
      "0                                        88.996764  no_merging  English\n",
      "1                                        63.448276  no_merging  English\n",
      "2                                        30.606860  no_merging  English\n",
      "3                                        64.499170  no_merging  English\n",
      "4                                        64.279297  no_merging  English\n",
      "saving to graph.pdf\n"
     ]
    },
    {
     "data": {
      "image/png": "[encoded data removed]",
      "text/plain": [
       "<Figure size 640x480 with 1 Axes>"
      ]
     },
     "metadata": {},
     "output_type": "display_data"
    }
   ],
   "source": [
    "merged_path = \"../../generated_definitions/merged\"\n",
    "number_of_senses_per_word = []\n",
    "strategies = []\n",
    "datasets = []\n",
    "language = \"english\"\n",
    "strategies, datasets, number_of_senses_per_word = run_language(\n",
    "    language, merged_path, strategies, datasets, number_of_senses_per_word,\n",
    ")\n",
    "\n",
    "original = f\"../../generated_definitions/russian/greedy/*.tsv.gz\"\n",
    "language = 'russian'\n",
    "strategies, datasets, number_of_senses_per_word = no_merging(\n",
    "    original, strategies, datasets, number_of_senses_per_word, language,\n",
    ")\n",
    "for strategy in (MINIMALIST, FULL):\n",
    "    corpus_df_original = pd.DataFrame()\n",
    "    paths = (\n",
    "        f\"../../generated_definitions/merged/russian1/{strategy}/greedy10/russian-corpus1.tsv.gz\",\n",
    "        f\"../../generated_definitions/merged/russian1/{strategy}/greedy10/russian-corpus2.tsv.gz\",\n",
    "        f\"../../generated_definitions/merged/russian3/{strategy}/greedy10/russian-corpus3.tsv.gz\",\n",
    "    )\n",
    "    for corpus in paths:\n",
    "        corpus_df = pd.read_csv(corpus, sep=\"\\t\", compression=\"gzip\", header=None)\n",
    "        corpus_df_original = pd.concat((corpus_df_original, corpus_df))\n",
    "    strategies.extend([strategy for _ in range(len(corpus_df_original[0].unique()))])\n",
    "    datasets.extend([language[0].upper()+language[1:] for _  in range(len(corpus_df_original[0].unique()))])\n",
    "    for word in corpus_df_original[0].unique():\n",
    "        this_word = corpus_df_original[corpus_df_original[0]==word]\n",
    "        number_of_senses_per_word.append(len(this_word[2].unique())/(this_word.shape[0]/100))\n",
    "    print(len(number_of_senses_per_word))\n",
    "    print(len(strategies))\n",
    "    \n",
    "for language in (\"norwegian1\", \"norwegian2\"):\n",
    "    strategies, datasets, number_of_senses_per_word = run_language(\n",
    "        language, merged_path, strategies, datasets, number_of_senses_per_word,\n",
    ")\n",
    "    \n",
    "print(len(datasets))\n",
    "data = pd.DataFrame(\n",
    "    {\n",
    "        f'Average number of senses per 100 usage examples':number_of_senses_per_word,\n",
    "        \"Merging\": strategies, \"Dataset\": datasets},\n",
    "             )\n",
    "print(data.head())\n",
    "g = sns.barplot(\n",
    "    data=data,\n",
    "    hue=\"Merging\",\n",
    "    x=\"Dataset\",\n",
    "    y='Average number of senses per 100 usage examples' \n",
    "                )\n",
    "        #plt.show()\n",
    "out = \"graph.pdf\"\n",
    "print(f\"saving to {out}\")\n",
    "plt.savefig(out, bbox_inches='tight')"
   ]
  }
 ],
 "metadata": {
  "kernelspec": {
   "display_name": "310",
   "language": "python",
   "name": "310"
  },
  "language_info": {
   "codemirror_mode": {
    "name": "ipython",
    "version": 3
   },
   "file_extension": ".py",
   "mimetype": "text/x-python",
   "name": "python",
   "nbconvert_exporter": "python",
   "pygments_lexer": "ipython3",
   "version": "3.10.14"
  }
 },
 "nbformat": 4,
 "nbformat_minor": 5
}
