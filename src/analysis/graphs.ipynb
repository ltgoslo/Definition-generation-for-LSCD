{
 "cells": [
  {
   "cell_type": "code",
   "execution_count": 1,
   "id": "4d994a17",
   "metadata": {},
   "outputs": [],
   "source": [
    "import pandas as pd\n",
    "import seaborn as sns\n",
    "import os\n",
    "from glob import glob\n",
    "import matplotlib.pyplot as plt"
   ]
  },
  {
   "cell_type": "code",
   "execution_count": 2,
   "id": "d93583c1",
   "metadata": {},
   "outputs": [],
   "source": [
    "STRATEGIES = {\n",
    "    \"minimal\": \"minimalist\", \n",
    "    \"maximal\": \"full-fledged\",\n",
    "}"
   ]
  },
  {
   "cell_type": "code",
   "execution_count": 8,
   "id": "9114833d",
   "metadata": {},
   "outputs": [
    {
     "name": "stdout",
     "output_type": "stream",
     "text": [
      "english\n",
      "(57629, 3)\n",
      "37\n",
      "37\n",
      "../../generated_definitions/merged/english/minimalist/greedy50\n"
     ]
    },
    {
     "ename": "KeyError",
     "evalue": "0",
     "output_type": "error",
     "traceback": [
      "\u001b[0;31m---------------------------------------------------------------------------\u001b[0m",
      "\u001b[0;31mValueError\u001b[0m                                Traceback (most recent call last)",
      "File \u001b[0;32m~/env/lib/python3.10/site-packages/pandas/core/indexes/range.py:345\u001b[0m, in \u001b[0;36mRangeIndex.get_loc\u001b[0;34m(self, key)\u001b[0m\n\u001b[1;32m    344\u001b[0m \u001b[38;5;28;01mtry\u001b[39;00m:\n\u001b[0;32m--> 345\u001b[0m     \u001b[38;5;28;01mreturn\u001b[39;00m \u001b[38;5;28;43mself\u001b[39;49m\u001b[38;5;241;43m.\u001b[39;49m\u001b[43m_range\u001b[49m\u001b[38;5;241;43m.\u001b[39;49m\u001b[43mindex\u001b[49m\u001b[43m(\u001b[49m\u001b[43mnew_key\u001b[49m\u001b[43m)\u001b[49m\n\u001b[1;32m    346\u001b[0m \u001b[38;5;28;01mexcept\u001b[39;00m \u001b[38;5;167;01mValueError\u001b[39;00m \u001b[38;5;28;01mas\u001b[39;00m err:\n",
      "\u001b[0;31mValueError\u001b[0m: 0 is not in range",
      "\nThe above exception was the direct cause of the following exception:\n",
      "\u001b[0;31mKeyError\u001b[0m                                  Traceback (most recent call last)",
      "Cell \u001b[0;32mIn[8], line 35\u001b[0m\n\u001b[1;32m     33\u001b[0m     corpus_df_original \u001b[38;5;241m=\u001b[39m pd\u001b[38;5;241m.\u001b[39mconcat((corpus_df_original, corpus_df))\n\u001b[1;32m     34\u001b[0m \u001b[38;5;66;03m#print(corpus_df_original.head())\u001b[39;00m\n\u001b[0;32m---> 35\u001b[0m strategies\u001b[38;5;241m.\u001b[39mextend([STRATEGIES[strategy] \u001b[38;5;28;01mfor\u001b[39;00m _ \u001b[38;5;129;01min\u001b[39;00m \u001b[38;5;28mrange\u001b[39m(\u001b[38;5;28mlen\u001b[39m(\u001b[43mcorpus_df_original\u001b[49m\u001b[43m[\u001b[49m\u001b[38;5;241;43m0\u001b[39;49m\u001b[43m]\u001b[49m\u001b[38;5;241m.\u001b[39munique()))])\n\u001b[1;32m     36\u001b[0m datasets\u001b[38;5;241m.\u001b[39mextend([language[\u001b[38;5;241m0\u001b[39m]\u001b[38;5;241m.\u001b[39mupper()\u001b[38;5;241m+\u001b[39mlanguage[\u001b[38;5;241m1\u001b[39m:] \u001b[38;5;28;01mfor\u001b[39;00m _  \u001b[38;5;129;01min\u001b[39;00m \u001b[38;5;28mrange\u001b[39m(\u001b[38;5;28mlen\u001b[39m(corpus_df_original[\u001b[38;5;241m0\u001b[39m]\u001b[38;5;241m.\u001b[39munique()))])\n\u001b[1;32m     37\u001b[0m \u001b[38;5;28;01mfor\u001b[39;00m word \u001b[38;5;129;01min\u001b[39;00m corpus_df_original[\u001b[38;5;241m0\u001b[39m]\u001b[38;5;241m.\u001b[39munique():\n",
      "File \u001b[0;32m~/env/lib/python3.10/site-packages/pandas/core/frame.py:3761\u001b[0m, in \u001b[0;36mDataFrame.__getitem__\u001b[0;34m(self, key)\u001b[0m\n\u001b[1;32m   3759\u001b[0m \u001b[38;5;28;01mif\u001b[39;00m \u001b[38;5;28mself\u001b[39m\u001b[38;5;241m.\u001b[39mcolumns\u001b[38;5;241m.\u001b[39mnlevels \u001b[38;5;241m>\u001b[39m \u001b[38;5;241m1\u001b[39m:\n\u001b[1;32m   3760\u001b[0m     \u001b[38;5;28;01mreturn\u001b[39;00m \u001b[38;5;28mself\u001b[39m\u001b[38;5;241m.\u001b[39m_getitem_multilevel(key)\n\u001b[0;32m-> 3761\u001b[0m indexer \u001b[38;5;241m=\u001b[39m \u001b[38;5;28;43mself\u001b[39;49m\u001b[38;5;241;43m.\u001b[39;49m\u001b[43mcolumns\u001b[49m\u001b[38;5;241;43m.\u001b[39;49m\u001b[43mget_loc\u001b[49m\u001b[43m(\u001b[49m\u001b[43mkey\u001b[49m\u001b[43m)\u001b[49m\n\u001b[1;32m   3762\u001b[0m \u001b[38;5;28;01mif\u001b[39;00m is_integer(indexer):\n\u001b[1;32m   3763\u001b[0m     indexer \u001b[38;5;241m=\u001b[39m [indexer]\n",
      "File \u001b[0;32m~/env/lib/python3.10/site-packages/pandas/core/indexes/range.py:347\u001b[0m, in \u001b[0;36mRangeIndex.get_loc\u001b[0;34m(self, key)\u001b[0m\n\u001b[1;32m    345\u001b[0m         \u001b[38;5;28;01mreturn\u001b[39;00m \u001b[38;5;28mself\u001b[39m\u001b[38;5;241m.\u001b[39m_range\u001b[38;5;241m.\u001b[39mindex(new_key)\n\u001b[1;32m    346\u001b[0m     \u001b[38;5;28;01mexcept\u001b[39;00m \u001b[38;5;167;01mValueError\u001b[39;00m \u001b[38;5;28;01mas\u001b[39;00m err:\n\u001b[0;32m--> 347\u001b[0m         \u001b[38;5;28;01mraise\u001b[39;00m \u001b[38;5;167;01mKeyError\u001b[39;00m(key) \u001b[38;5;28;01mfrom\u001b[39;00m \u001b[38;5;21;01merr\u001b[39;00m\n\u001b[1;32m    348\u001b[0m \u001b[38;5;28;01mif\u001b[39;00m \u001b[38;5;28misinstance\u001b[39m(key, Hashable):\n\u001b[1;32m    349\u001b[0m     \u001b[38;5;28;01mraise\u001b[39;00m \u001b[38;5;167;01mKeyError\u001b[39;00m(key)\n",
      "\u001b[0;31mKeyError\u001b[0m: 0"
     ]
    }
   ],
   "source": [
    "merged_path = \"../../generated_definitions/merged\"\n",
    "number_of_senses_per_word = []\n",
    "strategies = []\n",
    "datasets = []\n",
    "for language in (\"english\", \"russian\", \"norwegian1\", \"norwegian2\"):\n",
    "    print(language)\n",
    "    english = os.path.join(merged_path, language)\n",
    "    original = f\"../../generated_definitions/{language}/greedy/*.tsv.gz\"\n",
    "    corpus_df_original = pd.DataFrame()\n",
    "    for i, corpus in enumerate(glob(original)):\n",
    "        corpus_df = pd.read_csv(corpus, sep=\"\\t\", compression=\"gzip\", header=None)\n",
    "        corpus_df_original = pd.concat((corpus_df_original, corpus_df))\n",
    "    print(corpus_df_original.shape)\n",
    "    #print(corpus_df_original.head())\n",
    "    strategies.extend([\"no_merging\" for _ in range(len(corpus_df_original[0].unique()))])\n",
    "    datasets.extend([language[0].upper()+language[1:] for _  in range(len(corpus_df_original[0].unique()))])\n",
    "    for word in corpus_df_original[0].unique():\n",
    "        this_word = corpus_df_original[corpus_df_original[0]==word]\n",
    "        number_of_senses_per_word.append(len(this_word[2].unique())/(this_word.shape[0]/100))\n",
    "    print(len(number_of_senses_per_word))\n",
    "    print(len(strategies))\n",
    "    for strategy in (\"minimalist\", \"full_fledged\"):\n",
    "        strategy_path = os.path.join(english, strategy)\n",
    "        if language == \"english\":\n",
    "            gen_strategy_path = os.path.join(strategy_path, \"greedy50\")\n",
    "        else:\n",
    "            gen_strategy_path = os.path.join(strategy_path, \"greedy10\")\n",
    "        corpus_df_original = pd.DataFrame()\n",
    "        print(gen_strategy_path)\n",
    "        for corpus in glob(gen_strategy_path + \"/*.tsv.gz\"):\n",
    "            print(corpus)\n",
    "            corpus_df = pd.read_csv(corpus, sep=\"\\t\", compression=\"gzip\", header=None)\n",
    "            corpus_df_original = pd.concat((corpus_df_original, corpus_df))\n",
    "        #print(corpus_df_original.head())\n",
    "        strategies.extend([STRATEGIES[strategy] for _ in range(len(corpus_df_original[0].unique()))])\n",
    "        datasets.extend([language[0].upper()+language[1:] for _  in range(len(corpus_df_original[0].unique()))])\n",
    "        for word in corpus_df_original[0].unique():\n",
    "            this_word = corpus_df_original[corpus_df_original[0]==word]\n",
    "            number_of_senses_per_word.append(len(this_word[2].unique())/(this_word.shape[0]/100))\n",
    "        print(len(number_of_senses_per_word))\n",
    "        print(len(strategies))\n",
    "        \n",
    "    \n",
    "print(len(datasets))\n",
    "data = pd.DataFrame({f'Average number of senses per 100 usage examples':number_of_senses_per_word, \"Merging\": strategies, \"Dataset\": datasets},\n",
    "             )\n",
    "print(data.head())\n",
    "g = sns.barplot(\n",
    "    data=data,\n",
    "    hue=\"Merging\",\n",
    "    x=\"Dataset\",\n",
    "    y='Average number of senses per 100 usage examples' \n",
    "                )\n",
    "        #plt.show()\n",
    "out = \"graph.pdf\"\n",
    "print(f\"saving to {out}\")\n",
    "plt.savefig(out, bbox_inches='tight')"
   ]
  },
  {
   "cell_type": "code",
   "execution_count": null,
   "id": "fbe4f3cf",
   "metadata": {},
   "outputs": [],
   "source": []
  }
 ],
 "metadata": {
  "kernelspec": {
   "display_name": "glossannotator",
   "language": "python",
   "name": "glossannotator"
  },
  "language_info": {
   "codemirror_mode": {
    "name": "ipython",
    "version": 3
   },
   "file_extension": ".py",
   "mimetype": "text/x-python",
   "name": "python",
   "nbconvert_exporter": "python",
   "pygments_lexer": "ipython3",
   "version": "3.10.12"
  }
 },
 "nbformat": 4,
 "nbformat_minor": 5
}
