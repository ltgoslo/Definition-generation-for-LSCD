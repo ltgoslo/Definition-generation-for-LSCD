{
 "cells": [
  {
   "cell_type": "code",
   "execution_count": 1,
   "id": "0e53bcca-6ebb-419a-9cac-8266af0a3192",
   "metadata": {},
   "outputs": [],
   "source": [
    "import pandas as pd\n",
    "import csv\n",
    "from transformers import MT5Tokenizer\n",
    "import os\n",
    "from collections import Counter\n",
    "from tqdm.notebook import tqdm\n",
    "from glob import glob"
   ]
  },
  {
   "cell_type": "code",
   "execution_count": null,
   "id": "3d9292bc-00bd-414d-850a-125e58b8fcdb",
   "metadata": {},
   "outputs": [],
   "source": [
    "for tsv in glob(\"../../defgen/russian/*.gz\"):\n",
    "    data = pd.read_csv(tsv,\n",
    "        sep='\\t', quoting=csv.QUOTE_NONE, compression=\"gzip\"\n",
    ")\n",
    "    data.to_csv(f\"../../defgen/russian/beam/{os.path.split(tsv)[-1]}\",\n",
    "        sep='\\t', quoting=csv.QUOTE_NONE, compression=\"gzip\", header=None, index=None)"
   ]
  },
  {
   "cell_type": "code",
   "execution_count": 25,
   "id": "6d204977-2031-4e02-841b-4fe1e9fb40d6",
   "metadata": {},
   "outputs": [
    {
     "data": {
      "text/plain": [
       "(27019, 3)"
      ]
     },
     "execution_count": 25,
     "metadata": {},
     "output_type": "execute_result"
    }
   ],
   "source": [
    "data = pd.read_csv(\n",
    "        \"../../defgen/cluster-projects-nn9851k-corpora-diachronic-acl_data-english-corpus1.tsv.gz\",\n",
    "        sep='\\t', quoting=csv.QUOTE_NONE, compression=\"gzip\", header=None,\n",
    ")\n",
    "data.shape"
   ]
  },
  {
   "cell_type": "code",
   "execution_count": 26,
   "id": "9e248676-dd87-452c-bdad-9d95a94bcbff",
   "metadata": {},
   "outputs": [
    {
     "data": {
      "text/plain": [
       "(27018, 3)"
      ]
     },
     "execution_count": 26,
     "metadata": {},
     "output_type": "execute_result"
    }
   ],
   "source": [
    "data_diversed = pd.read_csv(\n",
    "        \"../../defgen/cluster-projects-nn9851k-andreku-defgen_lscd-acl_data-english-corpora-acl-parsed-english-corpus1.tsv.gz\",\n",
    "        sep='\\t', quoting=csv.QUOTE_NONE, compression=\"gzip\", header=None,\n",
    ")\n",
    "data_diversed.shape"
   ]
  },
  {
   "cell_type": "code",
   "execution_count": 5,
   "id": "31d0d86f-433e-49eb-985f-602459e06d9d",
   "metadata": {},
   "outputs": [
    {
     "name": "stderr",
     "output_type": "stream",
     "text": [
      "You are using the default legacy behaviour of the <class 'transformers.models.t5.tokenization_t5.T5Tokenizer'>. This is expected, and simply means that the `legacy` (previous) behavior will be used so nothing changes for you. If you want to use the new behaviour, set `legacy=False`. This should only be set if you understand what it means, and thouroughly read the reason why this was added as explained in https://github.com/huggingface/transformers/pull/24565\n"
     ]
    }
   ],
   "source": [
    "tokenizer = MT5Tokenizer.from_pretrained(os.path.expanduser(\"~/mt0-xl\"))"
   ]
  },
  {
   "cell_type": "code",
   "execution_count": 29,
   "id": "4ab993da-9cf2-4aca-98bc-d3588a389bab",
   "metadata": {},
   "outputs": [],
   "source": [
    "bad = data[(data[0]==\"face\") & data[1].str.contains(\"Coppe\")][1][15030]"
   ]
  },
  {
   "cell_type": "code",
   "execution_count": 32,
   "id": "7abe96e9-2773-4bcd-81f6-bd754203b5c8",
   "metadata": {},
   "outputs": [
    {
     "data": {
      "text/plain": [
       "367"
      ]
     },
     "execution_count": 32,
     "metadata": {},
     "output_type": "execute_result"
    }
   ],
   "source": [
    "len(tokenizer(bad, return_token_type_ids=False, return_attention_mask=False)[\"input_ids\"])"
   ]
  },
  {
   "cell_type": "code",
   "execution_count": 33,
   "id": "fff9aecb-3945-4d2d-862c-c17532a4a469",
   "metadata": {},
   "outputs": [
    {
     "data": {
      "text/plain": [
       "Series([], Name: 1, dtype: object)"
      ]
     },
     "execution_count": 33,
     "metadata": {},
     "output_type": "execute_result"
    }
   ],
   "source": [
    "data.drop(15030, inplace=True)\n",
    "data[(data[0]==\"face\") & data[1].str.contains(\"Coppe\")][1]"
   ]
  },
  {
   "cell_type": "code",
   "execution_count": 35,
   "id": "bf3bb3e8-c2b4-49c4-9c7b-1a8acb2df4d0",
   "metadata": {},
   "outputs": [],
   "source": [
    "data.to_csv(\"../../defgen/greedy/english-corpus1.tsv.gz\",\n",
    "        sep='\\t', quoting=csv.QUOTE_NONE, compression=\"gzip\", header=None, index=None)"
   ]
  },
  {
   "cell_type": "code",
   "execution_count": 36,
   "id": "f82f0ffd-84db-4319-bec0-05bee5a87afe",
   "metadata": {},
   "outputs": [
    {
     "data": {
      "text/plain": [
       "(27018, 3)"
      ]
     },
     "execution_count": 36,
     "metadata": {},
     "output_type": "execute_result"
    }
   ],
   "source": [
    "data.shape"
   ]
  },
  {
   "cell_type": "code",
   "execution_count": 40,
   "id": "04ad57a5-0c4d-4e52-9729-296ec99af02b",
   "metadata": {},
   "outputs": [
    {
     "name": "stdout",
     "output_type": "stream",
     "text": [
      "(30903, 3)\n",
      "(30902, 3)\n"
     ]
    }
   ],
   "source": [
    "data = pd.read_csv(\n",
    "        \"../../defgen/cluster-projects-nn9851k-corpora-diachronic-acl_data-english-corpus2.tsv.gz\",\n",
    "        sep='\\t', quoting=csv.QUOTE_NONE, compression=\"gzip\", header=None,\n",
    ")\n",
    "print(data.shape)\n",
    "data_diversed = pd.read_csv(\n",
    "        \"../../defgen/cluster-projects-nn9851k-andreku-defgen_lscd-acl_data-english-corpora-acl-parsed-english-corpus2.tsv.gz\",\n",
    "        sep='\\t', quoting=csv.QUOTE_NONE, compression=\"gzip\", header=None,\n",
    ")\n",
    "print(data_diversed.shape)"
   ]
  },
  {
   "cell_type": "code",
   "execution_count": 41,
   "id": "e263b63f-7fb8-47b6-bc96-a4afd737ce0d",
   "metadata": {},
   "outputs": [
    {
     "name": "stdout",
     "output_type": "stream",
     "text": [
      "{0: 'prop', 1: '381 **26;25353 ; 599 , 712 ** 76;25381 ; Biotech Dev Cp **26;25459 ; A52 , 521 **26;25487 ; 16 , 876 ** 76;25515 ; Bird Inc ** 26;25593 ; A84 , 347 **26;25621 ; 53 , 153 ** 76;25649 ; ** 76;25727 ; Birmingham Steel Cp ** 26;25805 ; A133 , 016 **26;25833 ; 63 , 461 ** 76;25861 ; Blyvooruitzicht Adr ** 26;25939 ; A29 , 781 **26;25967 ; 18 , 103 **76;25995 ; Boatmens Bcshs ** 26;26073 ; R52 , 932 **26;26101 ; 32 , 562 **76;26129 ; Bob Evans Farms Inc ** 26;26207 ; 58 , 102 **26;26235 ; 40 , 094 ** 76;26263 ; Bobbie Brooks Inc ** 26;26341 ; 27 , 555 **26;26369 ; 8 , 239 **76;26397 ; Brajdas Cp ** 26;26475 ; 13 , 689 ** 26;26503 ; 2 , 524 ** 76;26531 ; Brand Cos Inc The ** 26;26609 ; 66 , 721 **26;26637 ; 21 , 788 **76;26665 ; Bristol Gaming Cp ** 26;26743 ; 11 , 383 **26;26771 ; 0 **76;26799 ; Broken Hill Prop Adr ** 26;26877 ; A402 , 398 **26;26905 ; 42 What is the definition of prop?', 2: 'An administrative district.'}\n",
      "26024\n"
     ]
    },
    {
     "data": {
      "text/plain": [
       "(30903, 3)"
      ]
     },
     "execution_count": 41,
     "metadata": {},
     "output_type": "execute_result"
    }
   ],
   "source": [
    "unique_diversed = data_diversed[1].unique()\n",
    "for i, row in data.iterrows():\n",
    "    if row[1] not in unique_diversed:\n",
    "        print(row.to_dict())\n",
    "        print(i)\n",
    "        break\n",
    "data.shape"
   ]
  },
  {
   "cell_type": "code",
   "execution_count": 42,
   "id": "847af852-8572-4837-9f7b-52191cacad8f",
   "metadata": {},
   "outputs": [
    {
     "data": {
      "text/plain": [
       "Series([], Name: 1, dtype: object)"
      ]
     },
     "execution_count": 42,
     "metadata": {},
     "output_type": "execute_result"
    }
   ],
   "source": [
    "data.drop(26024, inplace=True)\n",
    "data[(data[0]==\"prop\") & data[1].str.contains(\"381\")][1]"
   ]
  },
  {
   "cell_type": "code",
   "execution_count": 43,
   "id": "72765a1d-9990-423f-8764-301bfcecfdbb",
   "metadata": {},
   "outputs": [],
   "source": [
    "data.to_csv(\"../../defgen/greedy/english-corpus2.tsv.gz\",\n",
    "        sep='\\t', quoting=csv.QUOTE_NONE, compression=\"gzip\", header=None, index=None)"
   ]
  },
  {
   "cell_type": "code",
   "execution_count": 20,
   "id": "bd64bccb-d754-4c52-9c68-4c1866bc4508",
   "metadata": {},
   "outputs": [],
   "source": [
    "max_contexts = 1000\n",
    "random_state = 42"
   ]
  },
  {
   "cell_type": "code",
   "execution_count": 162,
   "id": "005447a6-5f98-4703-bdc5-5d8afe25eaf6",
   "metadata": {},
   "outputs": [],
   "source": [
    "def cut_frequent(path, out_path):\n",
    "    data = pd.read_csv(\n",
    "        path,\n",
    "        sep='\\t', quoting=csv.QUOTE_NONE, compression=\"gzip\", header=None)\n",
    "    data = data.drop_duplicates()\n",
    "    new_data = pd.DataFrame()\n",
    "    for word, n_contexts in Counter(data[0]).items():\n",
    "        this_word = data[data[0] == word]\n",
    "        if n_contexts > max_contexts:\n",
    "            this_word = this_word.sample(max_contexts, random_state=random_state)\n",
    "        new_data = pd.concat((new_data, this_word))\n",
    "    new_data = new_data.drop_duplicates()\n",
    "    print(new_data.shape)\n",
    "    \n",
    "    new_data.to_csv(out_path, index=False, sep=\"\\t\", compression=\"gzip\")\n",
    "    print(Counter(new_data[0]))\n",
    "    return new_data.head()"
   ]
  },
  {
   "cell_type": "code",
   "execution_count": 160,
   "id": "54df9622-cf31-4727-8c66-4d899eac1735",
   "metadata": {},
   "outputs": [
    {
     "name": "stdout",
     "output_type": "stream",
     "text": [
      "(24873, 2)\n"
     ]
    },
    {
     "data": {
      "text/html": [
       "<div>\n",
       "<style scoped>\n",
       "    .dataframe tbody tr th:only-of-type {\n",
       "        vertical-align: middle;\n",
       "    }\n",
       "\n",
       "    .dataframe tbody tr th {\n",
       "        vertical-align: top;\n",
       "    }\n",
       "\n",
       "    .dataframe thead th {\n",
       "        text-align: right;\n",
       "    }\n",
       "</style>\n",
       "<table border=\"1\" class=\"dataframe\">\n",
       "  <thead>\n",
       "    <tr style=\"text-align: right;\">\n",
       "      <th></th>\n",
       "      <th>0</th>\n",
       "      <th>1</th>\n",
       "    </tr>\n",
       "  </thead>\n",
       "  <tbody>\n",
       "    <tr>\n",
       "      <th>22512</th>\n",
       "      <td>forhold</td>\n",
       "      <td>Veksttakten for tjenesteeksporten var i 1990 k...</td>\n",
       "    </tr>\n",
       "    <tr>\n",
       "      <th>506496</th>\n",
       "      <td>forhold</td>\n",
       "      <td>Biblioteket har et formelt og meget godt samar...</td>\n",
       "    </tr>\n",
       "    <tr>\n",
       "      <th>110510</th>\n",
       "      <td>forhold</td>\n",
       "      <td>I det perspektiv har vi så drøftet forholdet m...</td>\n",
       "    </tr>\n",
       "    <tr>\n",
       "      <th>460046</th>\n",
       "      <td>forhold</td>\n",
       "      <td>Videre vil ikke systemet gi noen garanti for e...</td>\n",
       "    </tr>\n",
       "    <tr>\n",
       "      <th>244547</th>\n",
       "      <td>forhold</td>\n",
       "      <td>Mest relevant informasjon om verdiskapningen v...</td>\n",
       "    </tr>\n",
       "  </tbody>\n",
       "</table>\n",
       "</div>"
      ],
      "text/plain": [
       "              0                                                  1\n",
       "22512   forhold  Veksttakten for tjenesteeksporten var i 1990 k...\n",
       "506496  forhold  Biblioteket har et formelt og meget godt samar...\n",
       "110510  forhold  I det perspektiv har vi så drøftet forholdet m...\n",
       "460046  forhold  Videre vil ikke systemet gi noen garanti for e...\n",
       "244547  forhold  Mest relevant informasjon om verdiskapningen v..."
      ]
     },
     "execution_count": 160,
     "metadata": {},
     "output_type": "execute_result"
    }
   ],
   "source": [
    "cut_frequent(\"../../acl_data/norwegian1-corpus2.txt.gz\", \"../../acl_data/norwegian1/norwegian1-corpus2.txt.gz\")"
   ]
  },
  {
   "cell_type": "code",
   "execution_count": 163,
   "id": "2cf925fe-7e3d-41b5-beba-83210b855db1",
   "metadata": {},
   "outputs": [
    {
     "name": "stdout",
     "output_type": "stream",
     "text": [
      "(21799, 2)\n",
      "Counter({'land': 1000, 'kart': 1000, 'leilighet': 1000, 'tro': 1000, 'mål': 1000, 'mening': 1000, 'bit': 1000, 'formiddag': 1000, 'forhold': 1000, 'stoff': 1000, 'leder': 1000, 'fag': 1000, 'katt': 993, 'rad': 992, 'bølge': 843, 'tropp': 810, 'egg': 598, 'sete': 533, 'damp': 521, 'varsel': 463, 'operasjon': 423, 'gress': 397, 'frakk': 364, 'ris': 326, 'data': 325, 'rev': 304, 'kjemi': 303, 'linse': 291, 'horisont': 284, 'lyng': 208, 'kloakk': 123, 'fil': 109, 'husrom': 105, 'skjerm': 92, 'idiot': 81, 'ørret': 79, 'etterforskning': 61, 'plattform': 61, 'anfektelse': 58, 'pære': 52})\n"
     ]
    },
    {
     "data": {
      "text/html": [
       "<div>\n",
       "<style scoped>\n",
       "    .dataframe tbody tr th:only-of-type {\n",
       "        vertical-align: middle;\n",
       "    }\n",
       "\n",
       "    .dataframe tbody tr th {\n",
       "        vertical-align: top;\n",
       "    }\n",
       "\n",
       "    .dataframe thead th {\n",
       "        text-align: right;\n",
       "    }\n",
       "</style>\n",
       "<table border=\"1\" class=\"dataframe\">\n",
       "  <thead>\n",
       "    <tr style=\"text-align: right;\">\n",
       "      <th></th>\n",
       "      <th>0</th>\n",
       "      <th>1</th>\n",
       "    </tr>\n",
       "  </thead>\n",
       "  <tbody>\n",
       "    <tr>\n",
       "      <th>36433</th>\n",
       "      <td>land</td>\n",
       "      <td>Undervisningen i geografi har til oppgave å gi...</td>\n",
       "    </tr>\n",
       "    <tr>\n",
       "      <th>28711</th>\n",
       "      <td>land</td>\n",
       "      <td>I det hele tatt er jeg overbevist om at dette ...</td>\n",
       "    </tr>\n",
       "    <tr>\n",
       "      <th>74769</th>\n",
       "      <td>land</td>\n",
       "      <td>Under storkrigen laget tyokerne flere sandtag ...</td>\n",
       "    </tr>\n",
       "    <tr>\n",
       "      <th>72117</th>\n",
       "      <td>land</td>\n",
       "      <td>Som nevnt under punkt C utdannes det her i lan...</td>\n",
       "    </tr>\n",
       "    <tr>\n",
       "      <th>8270</th>\n",
       "      <td>land</td>\n",
       "      <td>Overtor Moskva kunde det ka git et tottXBte «o...</td>\n",
       "    </tr>\n",
       "  </tbody>\n",
       "</table>\n",
       "</div>"
      ],
      "text/plain": [
       "          0                                                  1\n",
       "36433  land  Undervisningen i geografi har til oppgave å gi...\n",
       "28711  land  I det hele tatt er jeg overbevist om at dette ...\n",
       "74769  land  Under storkrigen laget tyokerne flere sandtag ...\n",
       "72117  land  Som nevnt under punkt C utdannes det her i lan...\n",
       "8270   land  Overtor Moskva kunde det ka git et tottXBte «o..."
      ]
     },
     "execution_count": 163,
     "metadata": {},
     "output_type": "execute_result"
    }
   ],
   "source": [
    "cut_frequent(\"../../acl_data/norwegian1-corpus1.txt.gz\", \"../../acl_data/norwegian1/norwegian1-corpus1.txt.gz\")"
   ]
  },
  {
   "cell_type": "code",
   "execution_count": 178,
   "id": "210d3d31-17d2-4ef6-9d4f-8db8a5f796ac",
   "metadata": {},
   "outputs": [
    {
     "data": {
      "text/plain": [
       "Counter({'side': 177657,\n",
       "         'melding': 136098,\n",
       "         'bank': 71449,\n",
       "         'spill': 70953,\n",
       "         'nett': 32783,\n",
       "         'rådgiver': 23978,\n",
       "         'strøm': 23936,\n",
       "         'vindu': 22508,\n",
       "         'kanal': 20994,\n",
       "         'terror': 20147,\n",
       "         'tape': 19964,\n",
       "         'virkelighet': 17835,\n",
       "         'tendens': 16420,\n",
       "         'papir': 15236,\n",
       "         'innstilling': 14982,\n",
       "         'vert': 12113,\n",
       "         'test': 10997,\n",
       "         'storby': 8714,\n",
       "         'kreft': 7974,\n",
       "         'oppvarming': 6976,\n",
       "         'melk': 5919,\n",
       "         'sky': 5630,\n",
       "         'overflate': 5095,\n",
       "         'kode': 4902,\n",
       "         'moment': 3666,\n",
       "         'virus': 2951,\n",
       "         'mus': 2520,\n",
       "         'særforbund': 2167,\n",
       "         'tjener': 1462,\n",
       "         'bystyrerepresentant': 1449,\n",
       "         'fjær': 1372,\n",
       "         'tavle': 1103,\n",
       "         'utakt': 989,\n",
       "         'Syden': 955,\n",
       "         'stryk': 926,\n",
       "         'mappe': 386,\n",
       "         'fane': 374,\n",
       "         'kjøpepress': 361,\n",
       "         'driftsregnskap': 24,\n",
       "         'kohort': 19})"
      ]
     },
     "execution_count": 178,
     "metadata": {},
     "output_type": "execute_result"
    }
   ],
   "source": [
    "data = pd.read_csv(\n",
    "    \"../../acl_data/home-m-corpora-acl-parsed-norwegian2-corpus2.conllu.gz.txt.gz\",\n",
    "    sep='\\t', quoting=csv.QUOTE_NONE, compression=\"gzip\", header=None)\n",
    "Counter(data[0])"
   ]
  },
  {
   "cell_type": "code",
   "execution_count": 179,
   "id": "374a85d4-2149-4878-8cbb-f71d2dcbd095",
   "metadata": {},
   "outputs": [],
   "source": [
    "data = data.drop_duplicates()"
   ]
  },
  {
   "cell_type": "code",
   "execution_count": 180,
   "id": "0eff013f-1ada-44bb-abcf-ad78665d05cf",
   "metadata": {},
   "outputs": [
    {
     "name": "stdout",
     "output_type": "stream",
     "text": [
      "(35300, 2)\n"
     ]
    },
    {
     "data": {
      "text/html": [
       "<div>\n",
       "<style scoped>\n",
       "    .dataframe tbody tr th:only-of-type {\n",
       "        vertical-align: middle;\n",
       "    }\n",
       "\n",
       "    .dataframe tbody tr th {\n",
       "        vertical-align: top;\n",
       "    }\n",
       "\n",
       "    .dataframe thead th {\n",
       "        text-align: right;\n",
       "    }\n",
       "</style>\n",
       "<table border=\"1\" class=\"dataframe\">\n",
       "  <thead>\n",
       "    <tr style=\"text-align: right;\">\n",
       "      <th></th>\n",
       "      <th>0</th>\n",
       "      <th>1</th>\n",
       "    </tr>\n",
       "  </thead>\n",
       "  <tbody>\n",
       "    <tr>\n",
       "      <th>699962</th>\n",
       "      <td>rådgiver</td>\n",
       "      <td>Ny Trump-rådgiver går av Tom Bossert trekker s...</td>\n",
       "    </tr>\n",
       "    <tr>\n",
       "      <th>590808</th>\n",
       "      <td>rådgiver</td>\n",
       "      <td>Stoknes har jobbet som rådgiver for Olje- og e...</td>\n",
       "    </tr>\n",
       "    <tr>\n",
       "      <th>385219</th>\n",
       "      <td>rådgiver</td>\n",
       "      <td>I august tok jeg mot til meg og gikk til skole...</td>\n",
       "    </tr>\n",
       "    <tr>\n",
       "      <th>717078</th>\n",
       "      <td>rådgiver</td>\n",
       "      <td>Administrasjonen valgte imidlertid å ikke innf...</td>\n",
       "    </tr>\n",
       "    <tr>\n",
       "      <th>737104</th>\n",
       "      <td>rådgiver</td>\n",
       "      <td>Trolig vil KrF få en omtrent like stor stab so...</td>\n",
       "    </tr>\n",
       "  </tbody>\n",
       "</table>\n",
       "</div>"
      ],
      "text/plain": [
       "               0                                                  1\n",
       "699962  rådgiver  Ny Trump-rådgiver går av Tom Bossert trekker s...\n",
       "590808  rådgiver  Stoknes har jobbet som rådgiver for Olje- og e...\n",
       "385219  rådgiver  I august tok jeg mot til meg og gikk til skole...\n",
       "717078  rådgiver  Administrasjonen valgte imidlertid å ikke innf...\n",
       "737104  rådgiver  Trolig vil KrF få en omtrent like stor stab so..."
      ]
     },
     "execution_count": 180,
     "metadata": {},
     "output_type": "execute_result"
    }
   ],
   "source": [
    "new_data = pd.DataFrame()\n",
    "for word, n_contexts in Counter(data[0]).items():\n",
    "    this_word = data[data[0] == word]\n",
    "    if n_contexts > max_contexts:\n",
    "        this_word = this_word.sample(max_contexts, random_state=random_state)\n",
    "    new_data = pd.concat((new_data, this_word))\n",
    "new_data = new_data.drop_duplicates()\n",
    "print(new_data.shape)\n",
    "\n",
    "new_data.to_csv(\"../../acl_data/norwegian2/norwegian2-corpus2.txt.gz\", index=False, sep=\"\\t\", compression=\"gzip\")\n",
    "new_data.head()"
   ]
  },
  {
   "cell_type": "code",
   "execution_count": 21,
   "id": "93583ecd-f0d8-4932-84e4-daced44bc1ed",
   "metadata": {},
   "outputs": [
    {
     "name": "stdout",
     "output_type": "stream",
     "text": [
      "(15909, 2)\n"
     ]
    },
    {
     "data": {
      "text/html": [
       "<div>\n",
       "<style scoped>\n",
       "    .dataframe tbody tr th:only-of-type {\n",
       "        vertical-align: middle;\n",
       "    }\n",
       "\n",
       "    .dataframe tbody tr th {\n",
       "        vertical-align: top;\n",
       "    }\n",
       "\n",
       "    .dataframe thead th {\n",
       "        text-align: right;\n",
       "    }\n",
       "</style>\n",
       "<table border=\"1\" class=\"dataframe\">\n",
       "  <thead>\n",
       "    <tr style=\"text-align: right;\">\n",
       "      <th></th>\n",
       "      <th>0</th>\n",
       "      <th>1</th>\n",
       "    </tr>\n",
       "  </thead>\n",
       "  <tbody>\n",
       "    <tr>\n",
       "      <th>0</th>\n",
       "      <td>vindu</td>\n",
       "      <td>Levittneten tar et normalt vendepunkt et lite ...</td>\n",
       "    </tr>\n",
       "    <tr>\n",
       "      <th>15</th>\n",
       "      <td>vindu</td>\n",
       "      <td>Avisa ga meg en rolig oppstemthet og latterkic...</td>\n",
       "    </tr>\n",
       "    <tr>\n",
       "      <th>17</th>\n",
       "      <td>vindu</td>\n",
       "      <td>Jeg llvktet ut av mønsteret til Lillehammer - ...</td>\n",
       "    </tr>\n",
       "    <tr>\n",
       "      <th>28</th>\n",
       "      <td>vindu</td>\n",
       "      <td>Foran meg - ut av vinduet - kan jeg se tindren...</td>\n",
       "    </tr>\n",
       "    <tr>\n",
       "      <th>38</th>\n",
       "      <td>vindu</td>\n",
       "      <td>Jeg husker mor, far, Hermansen, Nusse, Zappa o...</td>\n",
       "    </tr>\n",
       "  </tbody>\n",
       "</table>\n",
       "</div>"
      ],
      "text/plain": [
       "        0                                                  1\n",
       "0   vindu  Levittneten tar et normalt vendepunkt et lite ...\n",
       "15  vindu  Avisa ga meg en rolig oppstemthet og latterkic...\n",
       "17  vindu  Jeg llvktet ut av mønsteret til Lillehammer - ...\n",
       "28  vindu  Foran meg - ut av vinduet - kan jeg se tindren...\n",
       "38  vindu  Jeg husker mor, far, Hermansen, Nusse, Zappa o..."
      ]
     },
     "execution_count": 21,
     "metadata": {},
     "output_type": "execute_result"
    }
   ],
   "source": [
    "data = pd.read_csv(\n",
    "    \"../../acl_data/home-m-corpora-acl-parsed-norwegian2-corpus1.conllu.gz.txt.gz\",\n",
    "    sep='\\t', quoting=csv.QUOTE_NONE, compression=\"gzip\", header=None)\n",
    "data = data.drop_duplicates()\n",
    "new_data = pd.DataFrame()\n",
    "for word, n_contexts in Counter(data[0]).items():\n",
    "    this_word = data[data[0] == word]\n",
    "    if n_contexts > max_contexts:\n",
    "        this_word = this_word.sample(max_contexts, random_state=random_state)\n",
    "    new_data = pd.concat((new_data, this_word))\n",
    "new_data = new_data.drop_duplicates()\n",
    "print(new_data.shape)\n",
    "#new_data.to_csv(\"../../acl_data/norwegian2/norwegian2-corpus1.txt.gz\", index=False, sep=\"\\t\", compression=\"gzip\")\n",
    "new_data.head()"
   ]
  },
  {
   "cell_type": "code",
   "execution_count": 24,
   "id": "31344594-af12-4af7-b547-6d814e95075e",
   "metadata": {},
   "outputs": [
    {
     "data": {
      "text/plain": [
       "'Levittneten tar et normalt vendepunkt et lite sveklikk og KonBtaterer at det Btar noe lvBende og/eller en lampe pa nGvre bordkant, samtidig klinger muBikken lant2BtiBk, menB l)lik- ket er rettet framover ut av vinduet mot grålysningens ødeleggende effekt. Smale lysflash beveger seg inn på netthinnen. Hva betyr vindu?'"
      ]
     },
     "execution_count": 24,
     "metadata": {},
     "output_type": "execute_result"
    }
   ],
   "source": [
    "new_data.iloc[0][1]"
   ]
  },
  {
   "cell_type": "markdown",
   "id": "2dedc06b-854c-4bc2-a967-3381d35a4631",
   "metadata": {},
   "source": [
    "## Русский"
   ]
  },
  {
   "cell_type": "code",
   "execution_count": 174,
   "id": "dfa4da5a-4800-45f3-890a-238e085ebf0b",
   "metadata": {},
   "outputs": [
    {
     "data": {
      "text/html": [
       "<div>\n",
       "<style scoped>\n",
       "    .dataframe tbody tr th:only-of-type {\n",
       "        vertical-align: middle;\n",
       "    }\n",
       "\n",
       "    .dataframe tbody tr th {\n",
       "        vertical-align: top;\n",
       "    }\n",
       "\n",
       "    .dataframe thead th {\n",
       "        text-align: right;\n",
       "    }\n",
       "</style>\n",
       "<table border=\"1\" class=\"dataframe\">\n",
       "  <thead>\n",
       "    <tr style=\"text-align: right;\">\n",
       "      <th></th>\n",
       "      <th>0</th>\n",
       "      <th>1</th>\n",
       "      <th>2</th>\n",
       "      <th>3</th>\n",
       "    </tr>\n",
       "  </thead>\n",
       "  <tbody>\n",
       "    <tr>\n",
       "      <th>0</th>\n",
       "      <td>авторитет</td>\n",
       "      <td>3.233333</td>\n",
       "      <td>2.955556</td>\n",
       "      <td>2.844444</td>\n",
       "    </tr>\n",
       "    <tr>\n",
       "      <th>1</th>\n",
       "      <td>амбиция</td>\n",
       "      <td>3.111111</td>\n",
       "      <td>3.444444</td>\n",
       "      <td>3.333333</td>\n",
       "    </tr>\n",
       "    <tr>\n",
       "      <th>2</th>\n",
       "      <td>апостол</td>\n",
       "      <td>3.494118</td>\n",
       "      <td>3.426966</td>\n",
       "      <td>3.423529</td>\n",
       "    </tr>\n",
       "    <tr>\n",
       "      <th>3</th>\n",
       "      <td>благодарность</td>\n",
       "      <td>3.233333</td>\n",
       "      <td>3.566667</td>\n",
       "      <td>3.655556</td>\n",
       "    </tr>\n",
       "    <tr>\n",
       "      <th>4</th>\n",
       "      <td>блин</td>\n",
       "      <td>3.213483</td>\n",
       "      <td>1.662921</td>\n",
       "      <td>2.577778</td>\n",
       "    </tr>\n",
       "  </tbody>\n",
       "</table>\n",
       "</div>"
      ],
      "text/plain": [
       "               0         1         2         3\n",
       "0      авторитет  3.233333  2.955556  2.844444\n",
       "1        амбиция  3.111111  3.444444  3.333333\n",
       "2        апостол  3.494118  3.426966  3.423529\n",
       "3  благодарность  3.233333  3.566667  3.655556\n",
       "4           блин  3.213483  1.662921  2.577778"
      ]
     },
     "execution_count": 174,
     "metadata": {},
     "output_type": "execute_result"
    }
   ],
   "source": [
    "targets = pd.read_csv(\"../../gloss-annotator/wugs/rushifteval_public/annotated_all.tsv\", sep=\"\\t\", header=None)\n",
    "targets.head()"
   ]
  },
  {
   "cell_type": "code",
   "execution_count": 168,
   "id": "d9d0cbfe-469d-4df5-8b58-e8cb5e5d0a67",
   "metadata": {},
   "outputs": [
    {
     "name": "stdout",
     "output_type": "stream",
     "text": [
      "(2123887, 2)\n",
      "(433737, 2)\n"
     ]
    }
   ],
   "source": [
    "data = pd.read_csv(\n",
    "    \"../../acl_data/home-m-corpora-acl-parsed-russian-corpus1.conllu.gz.txt.gz\",\n",
    "    sep='\\t', quoting=csv.QUOTE_NONE, compression=\"gzip\", header=None)\n",
    "data = data.drop_duplicates()\n",
    "print(data.shape)\n",
    "data = data[data[0].isin(targets[0])]\n",
    "print(data.shape)\n"
   ]
  },
  {
   "cell_type": "code",
   "execution_count": 169,
   "id": "4bfe7358-3f71-4b18-a725-e9decc1c0bd7",
   "metadata": {},
   "outputs": [
    {
     "data": {
      "text/plain": [
       "Counter({'земля': 42819,\n",
       "         'брат': 33900,\n",
       "         'любовь': 29915,\n",
       "         'стол': 26135,\n",
       "         'путь': 25874,\n",
       "         'правда': 25861,\n",
       "         'дух': 23903,\n",
       "         'стена': 17287,\n",
       "         'век': 14813,\n",
       "         'огонь': 12666,\n",
       "         'дядя': 9936,\n",
       "         'грех': 9190,\n",
       "         'план': 8568,\n",
       "         'хозяйка': 7578,\n",
       "         'завод': 7236,\n",
       "         'карман': 7206,\n",
       "         'университет': 6542,\n",
       "         'название': 5946,\n",
       "         'расчет': 4689,\n",
       "         'возраст': 4379,\n",
       "         'поэзия': 4338,\n",
       "         'благодарность': 4136,\n",
       "         'центр': 4038,\n",
       "         'поколение': 3841,\n",
       "         'четверть': 3630,\n",
       "         'облако': 3590,\n",
       "         'крыша': 3586,\n",
       "         'памятник': 3574,\n",
       "         'помощник': 3459,\n",
       "         'живот': 3074,\n",
       "         'хор': 2941,\n",
       "         'полоса': 2893,\n",
       "         'штаб': 2835,\n",
       "         'список': 2715,\n",
       "         'совершенство': 2653,\n",
       "         'головка': 2316,\n",
       "         'железо': 2272,\n",
       "         'цифра': 2255,\n",
       "         'спутник': 2246,\n",
       "         'размышление': 2188,\n",
       "         'заблуждение': 2171,\n",
       "         'формула': 2168,\n",
       "         'промышленность': 2030,\n",
       "         'ссылка': 1995,\n",
       "         'локоть': 1877,\n",
       "         'союзник': 1810,\n",
       "         'любовник': 1778,\n",
       "         'авторитет': 1765,\n",
       "         'лечение': 1743,\n",
       "         'частица': 1700,\n",
       "         'ядро': 1581,\n",
       "         'лишение': 1532,\n",
       "         'удобство': 1505,\n",
       "         'установление': 1406,\n",
       "         'цензура': 1379,\n",
       "         'вызов': 1294,\n",
       "         'понедельник': 1243,\n",
       "         'итальянец': 1197,\n",
       "         'апостол': 1150,\n",
       "         'бригада': 1016,\n",
       "         'юбилей': 952,\n",
       "         'увольнение': 573,\n",
       "         'крушение': 570,\n",
       "         'блин': 554,\n",
       "         'полость': 506,\n",
       "         'пафос': 493,\n",
       "         'дядька': 493,\n",
       "         'сверстник': 484,\n",
       "         'собрат': 477,\n",
       "         'роспись': 456,\n",
       "         'связка': 444,\n",
       "         'веер': 441,\n",
       "         'радикал': 435,\n",
       "         'предательство': 417,\n",
       "         'тупик': 381,\n",
       "         'фаворит': 352,\n",
       "         'линейка': 351,\n",
       "         'закладка': 317,\n",
       "         'углеводород': 308,\n",
       "         'кабан': 299,\n",
       "         'риторика': 289,\n",
       "         'писк': 266,\n",
       "         'блондин': 256,\n",
       "         'проникновение': 251,\n",
       "         'чек': 248,\n",
       "         'поставщик': 237,\n",
       "         'полукруг': 227,\n",
       "         'верховье': 225,\n",
       "         'уклад': 218,\n",
       "         'половинка': 217,\n",
       "         'обоснование': 203,\n",
       "         'хрен': 202,\n",
       "         'ранец': 188,\n",
       "         'амбиция': 178,\n",
       "         'тачка': 167,\n",
       "         'стипендия': 157,\n",
       "         'прорыв': 154,\n",
       "         'формат': 150,\n",
       "         'наложение': 148,\n",
       "         'издательство': 147,\n",
       "         'эшелон': 146,\n",
       "         'советчик': 111,\n",
       "         'лох': 110,\n",
       "         'наволочка': 96,\n",
       "         'ясли': 93,\n",
       "         'жесть': 83,\n",
       "         'пролетарий': 81,\n",
       "         'прецедент': 76,\n",
       "         'монстр': 69,\n",
       "         'маньяк': 65,\n",
       "         'кулиса': 13})"
      ]
     },
     "execution_count": 169,
     "metadata": {},
     "output_type": "execute_result"
    }
   ],
   "source": [
    " Counter(data[0])"
   ]
  },
  {
   "cell_type": "code",
   "execution_count": 170,
   "id": "ac701511-411f-4847-a62b-6a41200a2a35",
   "metadata": {},
   "outputs": [
    {
     "name": "stdout",
     "output_type": "stream",
     "text": [
      "(74374, 2)\n"
     ]
    },
    {
     "data": {
      "text/plain": [
       "Counter({'брат': 1000,\n",
       "         'облако': 1000,\n",
       "         'четверть': 1000,\n",
       "         'возраст': 1000,\n",
       "         'любовь': 1000,\n",
       "         'стена': 1000,\n",
       "         'университет': 1000,\n",
       "         'завод': 1000,\n",
       "         'благодарность': 1000,\n",
       "         'поэзия': 1000,\n",
       "         'установление': 1000,\n",
       "         'огонь': 1000,\n",
       "         'дух': 1000,\n",
       "         'правда': 1000,\n",
       "         'памятник': 1000,\n",
       "         'путь': 1000,\n",
       "         'план': 1000,\n",
       "         'век': 1000,\n",
       "         'дядя': 1000,\n",
       "         'стол': 1000,\n",
       "         'земля': 1000,\n",
       "         'крыша': 1000,\n",
       "         'грех': 1000,\n",
       "         'помощник': 1000,\n",
       "         'ссылка': 1000,\n",
       "         'частица': 1000,\n",
       "         'карман': 1000,\n",
       "         'промышленность': 1000,\n",
       "         'формула': 1000,\n",
       "         'совершенство': 1000,\n",
       "         'железо': 1000,\n",
       "         'головка': 1000,\n",
       "         'понедельник': 1000,\n",
       "         'итальянец': 1000,\n",
       "         'название': 1000,\n",
       "         'расчет': 1000,\n",
       "         'цензура': 1000,\n",
       "         'заблуждение': 1000,\n",
       "         'хор': 1000,\n",
       "         'хозяйка': 1000,\n",
       "         'вызов': 1000,\n",
       "         'лечение': 1000,\n",
       "         'цифра': 1000,\n",
       "         'любовник': 1000,\n",
       "         'спутник': 1000,\n",
       "         'центр': 1000,\n",
       "         'поколение': 1000,\n",
       "         'штаб': 1000,\n",
       "         'полоса': 1000,\n",
       "         'удобство': 1000,\n",
       "         'список': 1000,\n",
       "         'живот': 1000,\n",
       "         'размышление': 1000,\n",
       "         'бригада': 1000,\n",
       "         'ядро': 1000,\n",
       "         'авторитет': 1000,\n",
       "         'лишение': 1000,\n",
       "         'локоть': 1000,\n",
       "         'союзник': 1000,\n",
       "         'апостол': 1000,\n",
       "         'юбилей': 952,\n",
       "         'увольнение': 573,\n",
       "         'крушение': 570,\n",
       "         'блин': 554,\n",
       "         'полость': 506,\n",
       "         'пафос': 493,\n",
       "         'дядька': 493,\n",
       "         'сверстник': 484,\n",
       "         'собрат': 477,\n",
       "         'роспись': 456,\n",
       "         'связка': 444,\n",
       "         'веер': 441,\n",
       "         'радикал': 435,\n",
       "         'предательство': 417,\n",
       "         'тупик': 381,\n",
       "         'фаворит': 352,\n",
       "         'линейка': 351,\n",
       "         'закладка': 317,\n",
       "         'углеводород': 308,\n",
       "         'кабан': 299,\n",
       "         'риторика': 289,\n",
       "         'писк': 266,\n",
       "         'блондин': 256,\n",
       "         'проникновение': 251,\n",
       "         'чек': 248,\n",
       "         'поставщик': 237,\n",
       "         'полукруг': 227,\n",
       "         'верховье': 225,\n",
       "         'уклад': 218,\n",
       "         'половинка': 217,\n",
       "         'обоснование': 203,\n",
       "         'хрен': 202,\n",
       "         'ранец': 188,\n",
       "         'амбиция': 178,\n",
       "         'тачка': 167,\n",
       "         'стипендия': 157,\n",
       "         'прорыв': 154,\n",
       "         'формат': 150,\n",
       "         'наложение': 148,\n",
       "         'издательство': 147,\n",
       "         'эшелон': 146,\n",
       "         'советчик': 111,\n",
       "         'лох': 110,\n",
       "         'наволочка': 96,\n",
       "         'ясли': 93,\n",
       "         'жесть': 83,\n",
       "         'пролетарий': 81,\n",
       "         'прецедент': 76,\n",
       "         'монстр': 69,\n",
       "         'маньяк': 65,\n",
       "         'кулиса': 13})"
      ]
     },
     "execution_count": 170,
     "metadata": {},
     "output_type": "execute_result"
    }
   ],
   "source": [
    "new_data = pd.DataFrame()\n",
    "for word, n_contexts in Counter(data[0]).items():\n",
    "    this_word = data[data[0] == word]\n",
    "    if n_contexts > max_contexts:\n",
    "        this_word = this_word.sample(max_contexts, random_state=random_state)\n",
    "    new_data = pd.concat((new_data, this_word))\n",
    "new_data = new_data.drop_duplicates()\n",
    "print(new_data.shape)\n",
    "Counter(new_data[0])"
   ]
  },
  {
   "cell_type": "code",
   "execution_count": 172,
   "id": "7740ba22-81a0-418e-b466-9fff459c93b1",
   "metadata": {},
   "outputs": [],
   "source": [
    "new_data.to_csv(\"../../acl_data/russian/russian-corpus1.txt.gz\", index=False, sep=\"\\t\", compression=\"gzip\")"
   ]
  },
  {
   "cell_type": "code",
   "execution_count": null,
   "id": "14462a0f-416e-4fd7-a869-32bbe9ae4dcb",
   "metadata": {},
   "outputs": [],
   "source": [
    "data = pd.read_csv(\n",
    "    \"../../acl_data/home-m-corpora-acl-parsed-russian-corpus2.conllu.gz.txt.gz\",\n",
    "    sep='\\t', quoting=csv.QUOTE_NONE, compression=\"gzip\", header=None)\n",
    "data = data.drop_duplicates()\n",
    "data = data[data[0].isin(targets[0])]\n",
    "new_data = pd.DataFrame()\n",
    "for word, n_contexts in Counter(data[0]).items():\n",
    "    this_word = data[data[0] == word]\n",
    "    if n_contexts > max_contexts:\n",
    "        this_word = this_word.sample(max_contexts, random_state=random_state)\n",
    "    new_data = pd.concat((new_data, this_word))\n",
    "new_data = new_data.drop_duplicates()\n",
    "print(new_data.shape)\n",
    "new_data.to_csv(\"../../acl_data/russian/russian-corpus2.txt.gz\", index=False, sep=\"\\t\", compression=\"gzip\")"
   ]
  },
  {
   "cell_type": "code",
   "execution_count": null,
   "id": "7ec8d57b-655f-44b9-8daf-fb574c6847f6",
   "metadata": {},
   "outputs": [],
   "source": [
    "data = pd.read_csv(\n",
    "    \"../../acl_data/home-m-corpora-acl-parsed-russian-corpus3.conllu.gz.txt.gz\",\n",
    "    sep='\\t', quoting=csv.QUOTE_NONE, compression=\"gzip\", header=None)\n",
    "data = data.drop_duplicates()\n",
    "data = data[data[0].isin(targets[0])]\n",
    "counted = Counter(data[0])\n",
    "new_data = pd.DataFrame()\n",
    "for word, n_contexts in counted.items():\n",
    "    this_word = data[data[0] == word]\n",
    "    if n_contexts > max_contexts:\n",
    "        this_word = this_word.sample(max_contexts, random_state=random_state)\n",
    "    new_data = pd.concat((new_data, this_word))\n",
    "new_data = new_data.drop_duplicates()\n",
    "print(new_data.shape)\n",
    "new_data.to_csv(\"../../acl_data/russian/russian-corpus3.txt.gz\", index=False, sep=\"\\t\", compression=\"gzip\")"
   ]
  }
 ],
 "metadata": {
  "kernelspec": {
   "display_name": "glossannotator",
   "language": "python",
   "name": "glossannotator"
  },
  "language_info": {
   "codemirror_mode": {
    "name": "ipython",
    "version": 3
   },
   "file_extension": ".py",
   "mimetype": "text/x-python",
   "name": "python",
   "nbconvert_exporter": "python",
   "pygments_lexer": "ipython3",
   "version": "3.10.12"
  }
 },
 "nbformat": 4,
 "nbformat_minor": 5
}
